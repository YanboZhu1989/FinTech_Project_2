{
 "cells": [
  {
   "cell_type": "code",
   "execution_count": 1,
   "id": "8ff02750-646a-4bed-935c-f69cb2fa972b",
   "metadata": {},
   "outputs": [],
   "source": [
    "import alpaca_trade_api as tradeapi\n",
    "import time"
   ]
  },
  {
   "cell_type": "code",
   "execution_count": 2,
   "id": "9d32c4bc-a6c2-4bc4-9684-cade6b7e4a0d",
   "metadata": {
    "tags": []
   },
   "outputs": [
    {
     "name": "stderr",
     "output_type": "stream",
     "text": [
      "Python-dotenv could not parse statement starting at line 7\n"
     ]
    },
    {
     "data": {
      "text/plain": [
       "True"
      ]
     },
     "execution_count": 2,
     "metadata": {},
     "output_type": "execute_result"
    }
   ],
   "source": [
    "import os\n",
    "from dotenv import load_dotenv\n",
    "load_dotenv()"
   ]
  },
  {
   "cell_type": "code",
   "execution_count": 3,
   "id": "95418670-db82-4507-8c24-e207a24fa03e",
   "metadata": {
    "tags": []
   },
   "outputs": [],
   "source": [
    "# Set Alpaca API key and secret\n",
    "alpaca_api_key = os.getenv(\"ALPACA_API_KEY\")\n",
    "alpaca_secret_key = os.getenv(\"ALPACA_SECRET_KEY\")\n",
    "# Create the Alpaca API object\n",
    "api = tradeapi.REST(\n",
    "    alpaca_api_key,\n",
    "    alpaca_secret_key,\n",
    "    base_url= 'https://paper-api.alpaca.markets',    \n",
    "    api_version = \"v2\"\n",
    ")"
   ]
  },
  {
   "cell_type": "markdown",
   "id": "734ae94d-5930-4f1d-bc69-a8bba2253e8d",
   "metadata": {
    "tags": []
   },
   "source": [
    "## Alpaca Buy/Sell Functions"
   ]
  },
  {
   "cell_type": "code",
   "execution_count": 5,
   "id": "1c4a99c5-74cf-441d-a7c3-cf0cf96f1cb9",
   "metadata": {
    "tags": []
   },
   "outputs": [],
   "source": [
    "# Define Alpaca buy function for crypto/stocks\n",
    "\n",
    "def buy_crypto(token,amount):\n",
    "    quantity_bought = 0\n",
    "    position_price = 0\n",
    "    amount_paid = 0    \n",
    "    buy = api.submit_order(\n",
    "  symbol=token, \n",
    "  side='buy',\n",
    "  notional=float(amount),\n",
    "  type='market',\n",
    "  time_in_force='gtc'\n",
    ")\n",
    "    buy_id = buy.id          \n",
    "    buy_order_status = buy.status\n",
    "    time.sleep(1)\n",
    "    order = api.get_order(buy_id)\n",
    "    print(f\"Buy status: {buy.status}\", end=\"\"), time.sleep(1), print(\".\", end=\"\"), time.sleep(0.5), print(\".\", end=\"\"), time.sleep(0.5), print(\".\") \n",
    "    print(f\"Buy id: {buy.id}\", end=\"\"), time.sleep(1), print(\".\", end=\"\"), time.sleep(0.5), print(\".\", end=\"\"), time.sleep(0.5), print(\".\")\n",
    "    print(f\"Order status: {order.status}\"), time.sleep(1) \n",
    "    \n",
    "    if str(order.status) == 'filled':\n",
    "        quantity_bought = float(order.filled_qty)\n",
    "        position_price = float(order.filled_avg_price)\n",
    "        amount_paid = position_price * quantity_bought\n",
    "        print(f\"You have sucessfully purchased ${amount} worth of {token} at ${float(position_price)} per share. Your purchased shares equate to {float(quantity_bought)}.\\n\")\n",
    "    else:\n",
    "        print(\"Status pending...\")        \n",
    "    return quantity_bought, position_price, amount_paid"
   ]
  },
  {
   "cell_type": "code",
   "execution_count": 6,
   "id": "fa8e7218-d86d-47c7-9dc0-3da33f1dcc9c",
   "metadata": {
    "tags": []
   },
   "outputs": [],
   "source": [
    "# Define Alpaca sell function for crypto/stocks\n",
    "\n",
    "def sell_crypto(token):\n",
    "    buy = api.submit_order(\n",
    "  symbol=token, \n",
    "  side='sell',\n",
    "  qty=float(quantity_bought),\n",
    "  type='market',\n",
    "  time_in_force='gtc'\n",
    ")\n",
    "    buy_id = buy.id          \n",
    "    buy_order_status = buy.status  \n",
    "    time.sleep(1)\n",
    "    order = api.get_order(buy_id)    \n",
    "    print(f\"Sell status: {buy.status}\", end=\"\"), time.sleep(1), print(\".\", end=\"\"), time.sleep(0.5), print(\".\", end=\"\"), time.sleep(0.5), print(\".\")   \n",
    "    print(f\"Sell id: {buy.id}\", end=\"\"), time.sleep(1), print(\".\", end=\"\"), time.sleep(0.5), print(\".\", end=\"\"), time.sleep(0.5), print(\".\")\n",
    "    print(f\"Order status: {order.status}\"), time.sleep(1) \n",
    "    \n",
    "    if str(order.status) == 'filled':\n",
    "        print(f\"You have sucessfully sold {float(quantity_bought)} of {token}.\")\n",
    "    else:\n",
    "        print(\"Status: pending.\")    "
   ]
  },
  {
   "cell_type": "markdown",
   "id": "66deba38-2891-40fb-84f3-b1b64cf0de88",
   "metadata": {},
   "source": [
    "## Implement Trading Strategy"
   ]
  },
  {
   "cell_type": "code",
   "execution_count": 7,
   "id": "05357861-7378-45f5-9d9d-d36b4a6f228c",
   "metadata": {},
   "outputs": [
    {
     "name": "stdout",
     "output_type": "stream",
     "text": [
      "Buy status: pending_new...\n",
      "Buy id: 1d50827f-baa7-4a9d-89f8-bf361b64f482...\n",
      "Order status: filled\n",
      "You have sucessfully purchased $400 worth of BTCUSD at $31160.40616841 per share. Your purchased shares equate to 0.01221843.\n",
      "\n",
      "Sell status: pending_new...\n",
      "Sell id: d2cd4900-7275-48ed-b7fe-c818c5e03c22...\n",
      "Order status: filled\n",
      "You have sucessfully sold 0.01221843 of BTCUSD.\n"
     ]
    }
   ],
   "source": [
    "# Implement trading strategy\n",
    "# Dummy example buy and sell after 10 second\n",
    "token = 'BTCUSD'\n",
    "amount = 400\n",
    "\n",
    "# Replace this bit with trade strategy\n",
    "quantity_bought, position_price, amount_paid = buy_crypto(token, amount)\n",
    "time.sleep(10)\n",
    "sell_crypto(token)"
   ]
  },
  {
   "cell_type": "code",
   "execution_count": null,
   "id": "9933851d-c165-4cc7-8819-174c60698332",
   "metadata": {},
   "outputs": [],
   "source": []
  }
 ],
 "metadata": {
  "celltoolbar": "Slideshow",
  "kernelspec": {
   "display_name": "Python 3 (ipykernel)",
   "language": "python",
   "name": "python3"
  },
  "language_info": {
   "codemirror_mode": {
    "name": "ipython",
    "version": 3
   },
   "file_extension": ".py",
   "mimetype": "text/x-python",
   "name": "python",
   "nbconvert_exporter": "python",
   "pygments_lexer": "ipython3",
   "version": "3.7.13"
  }
 },
 "nbformat": 4,
 "nbformat_minor": 5
}
