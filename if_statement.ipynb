{
 "cells": [
  {
   "cell_type": "code",
   "execution_count": null,
   "id": "05b51924-3738-4c03-8069-ab2e17190a6c",
   "metadata": {},
   "outputs": [],
   "source": [
    "# Get price of BTC for today for further analysis \n",
    "BTC_price_today = BTC.history(start = today(), end = today())"
   ]
  },
  {
   "cell_type": "code",
   "execution_count": null,
   "id": "5d098503-ceef-414e-8060-a8e7eb05b10f",
   "metadata": {},
   "outputs": [],
   "source": [
    "# Create a dataframe for Prophet model forecast:\n",
    "pr_forecast = pd.DataFrame(\n",
    "    pr_forecast_aug_2023.mean(), \n",
    "    index=['Best Case','Wrost Case','Most Likely Case'], \n",
    "    columns=['Forecasted Price']\n",
    ")\n",
    "pr_forecast"
   ]
  },
  {
   "cell_type": "code",
   "execution_count": null,
   "id": "64b55e63-9b82-4adb-919d-f361f7afb416",
   "metadata": {},
   "outputs": [],
   "source": [
    "# Define and empaty varibale for use in the if statement\n",
    "whisper = ''\n",
    "\n",
    "# Define if Statement to advise of course of action\n",
    "if (sentiment.iloc[[0]] > 50) and (BTC_price_today < pr_forecast.iloc[[2]]):\n",
    "    whisper = \"Buy\"\n",
    "    \n",
    "elif (sentiment.iloc[[0]] > 50) and (BTC_price_today > pr_forecast.iloc[[2]]):\n",
    "    whisper = \"Sell\"\n",
    "    \n",
    "elif sentiment.iloc[[0]] == 50:\n",
    "    whisper = \"Hold\"\n",
    "    \n",
    "else:\n",
    "    whisper = \"Sell\""
   ]
  },
  {
   "cell_type": "code",
   "execution_count": null,
   "id": "b331c3ab-b472-4a55-9340-c88a8a39e354",
   "metadata": {},
   "outputs": [],
   "source": [
    "# Print the output recommendation of the project\n",
    "print(f\"The Coins Whisperes anticipates that a {whisper} is a suitbale course of action given the current data points.\")"
   ]
  },
  {
   "cell_type": "code",
   "execution_count": null,
   "id": "3819b572-e8c6-433c-8364-a2ecc9014534",
   "metadata": {},
   "outputs": [],
   "source": []
  },
  {
   "cell_type": "code",
   "execution_count": null,
   "id": "40facdbe-02c8-4896-91a8-cbfbff838fae",
   "metadata": {},
   "outputs": [],
   "source": []
  }
 ],
 "metadata": {
  "kernelspec": {
   "display_name": "Python 3 (ipykernel)",
   "language": "python",
   "name": "python3"
  },
  "language_info": {
   "codemirror_mode": {
    "name": "ipython",
    "version": 3
   },
   "file_extension": ".py",
   "mimetype": "text/x-python",
   "name": "python",
   "nbconvert_exporter": "python",
   "pygments_lexer": "ipython3",
   "version": "3.7.13"
  }
 },
 "nbformat": 4,
 "nbformat_minor": 5
}
