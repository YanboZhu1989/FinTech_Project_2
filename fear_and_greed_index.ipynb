{
 "cells": [
  {
   "cell_type": "code",
   "execution_count": 2,
   "id": "fc054d99-d270-48dc-b9b9-7215f3cf115e",
   "metadata": {
    "collapsed": true,
    "jupyter": {
     "outputs_hidden": true
    },
    "scrolled": true
   },
   "outputs": [
    {
     "name": "stdout",
     "output_type": "stream",
     "text": [
      "Collecting fear_and_greed\n",
      "  Using cached fear_and_greed-0.4-py3-none-any.whl (3.9 kB)\n",
      "Requirement already satisfied: requests in /Users/shayan/miniforge3/envs/algotrading/lib/python3.11/site-packages (from fear_and_greed) (2.31.0)\n",
      "Collecting requests-cache (from fear_and_greed)\n",
      "  Using cached requests_cache-1.1.0-py3-none-any.whl (60 kB)\n",
      "Requirement already satisfied: charset-normalizer<4,>=2 in /Users/shayan/miniforge3/envs/algotrading/lib/python3.11/site-packages (from requests->fear_and_greed) (3.1.0)\n",
      "Requirement already satisfied: idna<4,>=2.5 in /Users/shayan/miniforge3/envs/algotrading/lib/python3.11/site-packages (from requests->fear_and_greed) (3.4)\n",
      "Requirement already satisfied: urllib3<3,>=1.21.1 in /Users/shayan/miniforge3/envs/algotrading/lib/python3.11/site-packages (from requests->fear_and_greed) (2.0.3)\n",
      "Requirement already satisfied: certifi>=2017.4.17 in /Users/shayan/miniforge3/envs/algotrading/lib/python3.11/site-packages (from requests->fear_and_greed) (2023.5.7)\n",
      "Requirement already satisfied: attrs>=21.2 in /Users/shayan/miniforge3/envs/algotrading/lib/python3.11/site-packages (from requests-cache->fear_and_greed) (23.1.0)\n",
      "Collecting cattrs>=22.2 (from requests-cache->fear_and_greed)\n",
      "  Using cached cattrs-23.1.2-py3-none-any.whl (50 kB)\n",
      "Requirement already satisfied: platformdirs>=2.5 in /Users/shayan/miniforge3/envs/algotrading/lib/python3.11/site-packages (from requests-cache->fear_and_greed) (3.6.0)\n",
      "Collecting url-normalize>=1.4 (from requests-cache->fear_and_greed)\n",
      "  Using cached url_normalize-1.4.3-py2.py3-none-any.whl (6.8 kB)\n",
      "Requirement already satisfied: six in /Users/shayan/miniforge3/envs/algotrading/lib/python3.11/site-packages (from url-normalize>=1.4->requests-cache->fear_and_greed) (1.16.0)\n",
      "Installing collected packages: url-normalize, cattrs, requests-cache, fear_and_greed\n",
      "Successfully installed cattrs-23.1.2 fear_and_greed-0.4 requests-cache-1.1.0 url-normalize-1.4.3\n",
      "Note: you may need to restart the kernel to use updated packages.\n"
     ]
    }
   ],
   "source": [
    "pip install fear_and_greed"
   ]
  },
  {
   "cell_type": "code",
   "execution_count": 21,
   "id": "90e50ff7-e86d-427b-af94-cee489a31850",
   "metadata": {},
   "outputs": [],
   "source": [
    "import fear_and_greed\n",
    "import pandas as pd"
   ]
  },
  {
   "cell_type": "code",
   "execution_count": 44,
   "id": "7799cc55-dff4-4202-a57e-714eabe85ef8",
   "metadata": {},
   "outputs": [
    {
     "data": {
      "text/html": [
       "<div>\n",
       "<style scoped>\n",
       "    .dataframe tbody tr th:only-of-type {\n",
       "        vertical-align: middle;\n",
       "    }\n",
       "\n",
       "    .dataframe tbody tr th {\n",
       "        vertical-align: top;\n",
       "    }\n",
       "\n",
       "    .dataframe thead th {\n",
       "        text-align: right;\n",
       "    }\n",
       "</style>\n",
       "<table border=\"1\" class=\"dataframe\">\n",
       "  <thead>\n",
       "    <tr style=\"text-align: right;\">\n",
       "      <th></th>\n",
       "      <th>CNN Fear &amp; Greed Index</th>\n",
       "    </tr>\n",
       "  </thead>\n",
       "  <tbody>\n",
       "    <tr>\n",
       "      <th>value</th>\n",
       "      <td>79.485714</td>\n",
       "    </tr>\n",
       "    <tr>\n",
       "      <th>description</th>\n",
       "      <td>extreme greed</td>\n",
       "    </tr>\n",
       "    <tr>\n",
       "      <th>last_update</th>\n",
       "      <td>2023-07-04 00:59:48+00:00</td>\n",
       "    </tr>\n",
       "  </tbody>\n",
       "</table>\n",
       "</div>"
      ],
      "text/plain": [
       "                CNN Fear & Greed Index\n",
       "value                        79.485714\n",
       "description              extreme greed\n",
       "last_update  2023-07-04 00:59:48+00:00"
      ]
     },
     "execution_count": 44,
     "metadata": {},
     "output_type": "execute_result"
    }
   ],
   "source": [
    "sentiment = pd.DataFrame(\n",
    "    fear_and_greed.get(), \n",
    "    index=['value','description','last_update'], \n",
    "    columns=['CNN Fear & Greed Index']\n",
    ")\n",
    "sentiment"
   ]
  },
  {
   "cell_type": "code",
   "execution_count": 47,
   "id": "ae36d67a-993f-4021-bea4-54b4cda939e6",
   "metadata": {},
   "outputs": [
    {
     "data": {
      "text/plain": [
       "CNN Fear & Greed Index    extreme greed\n",
       "Name: description, dtype: object"
      ]
     },
     "execution_count": 47,
     "metadata": {},
     "output_type": "execute_result"
    }
   ],
   "source": [
    "sentiment.loc['description']"
   ]
  },
  {
   "cell_type": "code",
   "execution_count": 51,
   "id": "b16362a7-0aef-49e5-97e3-82ae038be058",
   "metadata": {},
   "outputs": [
    {
     "data": {
      "text/html": [
       "<div>\n",
       "<style scoped>\n",
       "    .dataframe tbody tr th:only-of-type {\n",
       "        vertical-align: middle;\n",
       "    }\n",
       "\n",
       "    .dataframe tbody tr th {\n",
       "        vertical-align: top;\n",
       "    }\n",
       "\n",
       "    .dataframe thead th {\n",
       "        text-align: right;\n",
       "    }\n",
       "</style>\n",
       "<table border=\"1\" class=\"dataframe\">\n",
       "  <thead>\n",
       "    <tr style=\"text-align: right;\">\n",
       "      <th></th>\n",
       "      <th>CNN Fear &amp; Greed Index</th>\n",
       "    </tr>\n",
       "  </thead>\n",
       "  <tbody>\n",
       "    <tr>\n",
       "      <th>description</th>\n",
       "      <td>extreme greed</td>\n",
       "    </tr>\n",
       "  </tbody>\n",
       "</table>\n",
       "</div>"
      ],
      "text/plain": [
       "            CNN Fear & Greed Index\n",
       "description          extreme greed"
      ]
     },
     "execution_count": 51,
     "metadata": {},
     "output_type": "execute_result"
    }
   ],
   "source": [
    "sentiment.iloc[[1]]"
   ]
  },
  {
   "cell_type": "code",
   "execution_count": null,
   "id": "15b293f0-58b5-4fdf-bd38-301613aa12f5",
   "metadata": {},
   "outputs": [],
   "source": [
    "# Fear and Greed Index:\n",
    "# extreme fear, fear, neutral, greed, extream greed\n",
    "# < 50 : fear\n",
    "# = 50 : Neutral\n",
    "# > 50 : greed\n"
   ]
  }
 ],
 "metadata": {
  "kernelspec": {
   "display_name": "Python 3 (ipykernel)",
   "language": "python",
   "name": "python3"
  },
  "language_info": {
   "codemirror_mode": {
    "name": "ipython",
    "version": 3
   },
   "file_extension": ".py",
   "mimetype": "text/x-python",
   "name": "python",
   "nbconvert_exporter": "python",
   "pygments_lexer": "ipython3",
   "version": "3.11.4"
  }
 },
 "nbformat": 4,
 "nbformat_minor": 5
}
