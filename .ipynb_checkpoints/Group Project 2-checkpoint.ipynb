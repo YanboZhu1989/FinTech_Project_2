{
 "cells": [
  {
   "cell_type": "code",
   "execution_count": null,
   "id": "124a9f34",
   "metadata": {},
   "outputs": [],
   "source": [
    "# Libraries and Dependencies\n",
    "import pandas as pd\n",
    "import numpy as np\n",
    "from pathlib import Path\n",
    "import hvplot.pandas\n",
    "import matplotlib.pyplot as plt\n",
    "from sklearn import svm\n",
    "from sklearn.preprocessing import StandardScaler\n",
    "from pandas.tseries.offsets import DateOffset\n",
    "from sklearn.metrics import classification_report\n",
    "from tensorflow.keras.layers import Dense\n",
    "from tensorflow.keras.models import Sequential\n",
    "# from ANOTHER MACHINE LEARNING LIBRARY import SOMETHING ELSE\n",
    "\n",
    "# APIs\n",
    "# Use Alpaca for BTC data"
   ]
  },
  {
   "cell_type": "markdown",
   "id": "821a2c6a-e82b-4101-80d1-63b4d9ac25db",
   "metadata": {},
   "source": [
    "# Inputs"
   ]
  },
  {
   "cell_type": "code",
   "execution_count": null,
   "id": "83d87fee-3d95-4f63-bedf-051491d9c1a3",
   "metadata": {},
   "outputs": [],
   "source": [
    "# Read in Data Files"
   ]
  },
  {
   "cell_type": "code",
   "execution_count": null,
   "id": "868ed098-57c4-4f7d-b5d4-e076d01a88f6",
   "metadata": {},
   "outputs": [],
   "source": []
  },
  {
   "cell_type": "code",
   "execution_count": null,
   "id": "dfa26cbd-ad21-444d-a33f-1b1ecbcd80b4",
   "metadata": {},
   "outputs": [],
   "source": []
  },
  {
   "cell_type": "code",
   "execution_count": null,
   "id": "ab7f9fda-08fc-424c-8d34-e8c1bf56052d",
   "metadata": {},
   "outputs": [],
   "source": []
  },
  {
   "cell_type": "markdown",
   "id": "d35e25cf-4d18-4a03-8442-5f702a841afc",
   "metadata": {},
   "source": [
    "# Data Processing"
   ]
  },
  {
   "cell_type": "code",
   "execution_count": null,
   "id": "6f447658-6938-4217-919a-23fab38f11d4",
   "metadata": {},
   "outputs": [],
   "source": []
  },
  {
   "cell_type": "code",
   "execution_count": null,
   "id": "5737e2f5-dc65-4e4c-8f63-c9372f01cc95",
   "metadata": {},
   "outputs": [],
   "source": []
  },
  {
   "cell_type": "code",
   "execution_count": null,
   "id": "88303567-893c-4858-99fc-6d7c612358ec",
   "metadata": {},
   "outputs": [],
   "source": []
  },
  {
   "cell_type": "code",
   "execution_count": null,
   "id": "06ae1b4d-7002-4259-8494-9eba2667500d",
   "metadata": {},
   "outputs": [],
   "source": []
  },
  {
   "cell_type": "markdown",
   "id": "8c6b1848-8d2d-4ba0-825d-0d8aa056ffa3",
   "metadata": {},
   "source": [
    "# Machine Learning Analysis"
   ]
  },
  {
   "cell_type": "code",
   "execution_count": null,
   "id": "0e8706be-2e18-4a6e-b976-d487f7524da9",
   "metadata": {},
   "outputs": [],
   "source": []
  },
  {
   "cell_type": "code",
   "execution_count": null,
   "id": "294a3b83-f8ec-41b9-9854-ab01730f69ee",
   "metadata": {},
   "outputs": [],
   "source": []
  },
  {
   "cell_type": "code",
   "execution_count": null,
   "id": "fcde721e-e762-48c6-868c-762014548833",
   "metadata": {},
   "outputs": [],
   "source": []
  },
  {
   "cell_type": "code",
   "execution_count": null,
   "id": "3f52c928-e8b1-4698-b92f-96e4851c8937",
   "metadata": {},
   "outputs": [],
   "source": []
  },
  {
   "cell_type": "code",
   "execution_count": null,
   "id": "d6701751-5088-4caf-8006-6ddd5e3220f7",
   "metadata": {},
   "outputs": [],
   "source": []
  },
  {
   "cell_type": "markdown",
   "id": "8726efff-a22e-4b46-b237-76aef8b9f60e",
   "metadata": {},
   "source": [
    "# Save each of your alternative models as an HDF5 file"
   ]
  },
  {
   "cell_type": "code",
   "execution_count": null,
   "id": "6c28edc9-1042-4b19-b625-e84c05efc76e",
   "metadata": {},
   "outputs": [],
   "source": []
  },
  {
   "cell_type": "markdown",
   "id": "7ed81083-0cdc-4644-b7e4-42ea83c6961d",
   "metadata": {},
   "source": [
    "# Output\n",
    "## Connect to an External Exchange (Demo Account)\n",
    "or\n",
    "## Send an SMS (Backup)"
   ]
  },
  {
   "cell_type": "code",
   "execution_count": null,
   "id": "19ebd3fa-b4a7-4749-97c6-3fd2f98a554c",
   "metadata": {},
   "outputs": [],
   "source": []
  },
  {
   "cell_type": "markdown",
   "id": "70d5ffec-1f7b-4445-872b-d6135f1ae29e",
   "metadata": {},
   "source": [
    "# Nice to have: Sentiment Analysis APIs"
   ]
  }
 ],
 "metadata": {
  "kernelspec": {
   "display_name": "Python 3 (ipykernel)",
   "language": "python",
   "name": "python3"
  },
  "language_info": {
   "codemirror_mode": {
    "name": "ipython",
    "version": 3
   },
   "file_extension": ".py",
   "mimetype": "text/x-python",
   "name": "python",
   "nbconvert_exporter": "python",
   "pygments_lexer": "ipython3",
   "version": "3.11.4"
  }
 },
 "nbformat": 4,
 "nbformat_minor": 5
}
