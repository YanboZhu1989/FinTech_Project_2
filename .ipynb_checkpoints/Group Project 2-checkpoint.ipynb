{
 "cells": [
  {
   "cell_type": "code",
   "execution_count": 1,
   "id": "5c32df66-ba0f-4fe5-9c5f-d7237642f93b",
   "metadata": {},
   "outputs": [],
   "source": [
    "# Libraries and Dependencies\n",
    "import pandas as pd\n",
    "import numpy as np\n",
    "from pathlib import Path\n",
    "import hvplot.pandas\n",
    "import matplotlib.pyplot as plt\n",
    "from sklearn import svm\n",
    "from sklearn.preprocessing import StandardScaler\n",
    "from pandas.tseries.offsets import DateOffset\n",
    "from sklearn.metrics import classification_report\n",
    "from tensorflow.keras.layers import Dense\n",
    "from tensorflow.keras.models import Sequential\n",
    "# from ANOTHER MACHINE LEARNING LIBRARY import SOMETHING ELSE"
   ]
  },
  {
   "cell_type": "code",
   "execution_count": 11,
   "id": "74d52d97-dabc-4b68-a81c-7d4c15afa198",
   "metadata": {},
   "outputs": [],
   "source": [
    "# APIs\n",
    "# Use Alpaca for BTC data\n",
    "import os\n",
    "from dotenv import load_dotenv\n",
    "import alpaca_trade_api as tradeapi\n",
    "load_dotenv()\n",
    "\n",
    "# Set Alpaca API key and secret\n",
    "alpaca_api_key = os.getenv(\"ALPACA_API_KEY\")\n",
    "alpaca_secret_key = os.getenv(\"ALPACA_SECRET_KEY\")"
   ]
  },
  {
   "cell_type": "code",
   "execution_count": 12,
   "id": "b26ea8eb-1f66-4973-a522-b4b0fe2eab5c",
   "metadata": {},
   "outputs": [],
   "source": [
    "# Create the Alpaca API object\n",
    "api = tradeapi.REST(\n",
    "    alpaca_api_key,\n",
    "    alpaca_secret_key,\n",
    "    api_version = \"v2\"\n",
    ")"
   ]
  },
  {
   "cell_type": "markdown",
   "id": "821a2c6a-e82b-4101-80d1-63b4d9ac25db",
   "metadata": {},
   "source": [
    "# Inputs"
   ]
  },
  {
   "cell_type": "code",
   "execution_count": 13,
   "id": "83d87fee-3d95-4f63-bedf-051491d9c1a3",
   "metadata": {},
   "outputs": [
    {
     "data": {
      "text/html": [
       "<div>\n",
       "<style scoped>\n",
       "    .dataframe tbody tr th:only-of-type {\n",
       "        vertical-align: middle;\n",
       "    }\n",
       "\n",
       "    .dataframe tbody tr th {\n",
       "        vertical-align: top;\n",
       "    }\n",
       "\n",
       "    .dataframe thead th {\n",
       "        text-align: right;\n",
       "    }\n",
       "</style>\n",
       "<table border=\"1\" class=\"dataframe\">\n",
       "  <thead>\n",
       "    <tr style=\"text-align: right;\">\n",
       "      <th></th>\n",
       "      <th>open</th>\n",
       "      <th>high</th>\n",
       "      <th>low</th>\n",
       "      <th>close</th>\n",
       "      <th>volume</th>\n",
       "      <th>trade_count</th>\n",
       "      <th>vwap</th>\n",
       "      <th>symbol</th>\n",
       "    </tr>\n",
       "    <tr>\n",
       "      <th>timestamp</th>\n",
       "      <th></th>\n",
       "      <th></th>\n",
       "      <th></th>\n",
       "      <th></th>\n",
       "      <th></th>\n",
       "      <th></th>\n",
       "      <th></th>\n",
       "      <th></th>\n",
       "    </tr>\n",
       "  </thead>\n",
       "  <tbody>\n",
       "    <tr>\n",
       "      <th>2021-04-16 04:00:00+00:00</th>\n",
       "      <td>100.890</td>\n",
       "      <td>100.89</td>\n",
       "      <td>98.770</td>\n",
       "      <td>99.2447</td>\n",
       "      <td>4497</td>\n",
       "      <td>186</td>\n",
       "      <td>100.273227</td>\n",
       "      <td>BTC</td>\n",
       "    </tr>\n",
       "    <tr>\n",
       "      <th>2021-04-19 04:00:00+00:00</th>\n",
       "      <td>99.120</td>\n",
       "      <td>99.13</td>\n",
       "      <td>98.985</td>\n",
       "      <td>99.1012</td>\n",
       "      <td>4551</td>\n",
       "      <td>96</td>\n",
       "      <td>99.104105</td>\n",
       "      <td>BTC</td>\n",
       "    </tr>\n",
       "    <tr>\n",
       "      <th>2021-04-20 04:00:00+00:00</th>\n",
       "      <td>98.790</td>\n",
       "      <td>99.30</td>\n",
       "      <td>98.790</td>\n",
       "      <td>99.0441</td>\n",
       "      <td>3736</td>\n",
       "      <td>82</td>\n",
       "      <td>98.932931</td>\n",
       "      <td>BTC</td>\n",
       "    </tr>\n",
       "    <tr>\n",
       "      <th>2021-04-21 04:00:00+00:00</th>\n",
       "      <td>99.010</td>\n",
       "      <td>99.01</td>\n",
       "      <td>98.900</td>\n",
       "      <td>98.9705</td>\n",
       "      <td>997</td>\n",
       "      <td>42</td>\n",
       "      <td>98.950429</td>\n",
       "      <td>BTC</td>\n",
       "    </tr>\n",
       "    <tr>\n",
       "      <th>2021-04-22 04:00:00+00:00</th>\n",
       "      <td>98.925</td>\n",
       "      <td>99.04</td>\n",
       "      <td>98.860</td>\n",
       "      <td>99.0010</td>\n",
       "      <td>1599</td>\n",
       "      <td>68</td>\n",
       "      <td>98.958802</td>\n",
       "      <td>BTC</td>\n",
       "    </tr>\n",
       "  </tbody>\n",
       "</table>\n",
       "</div>"
      ],
      "text/plain": [
       "                              open    high     low    close  volume  \\\n",
       "timestamp                                                             \n",
       "2021-04-16 04:00:00+00:00  100.890  100.89  98.770  99.2447    4497   \n",
       "2021-04-19 04:00:00+00:00   99.120   99.13  98.985  99.1012    4551   \n",
       "2021-04-20 04:00:00+00:00   98.790   99.30  98.790  99.0441    3736   \n",
       "2021-04-21 04:00:00+00:00   99.010   99.01  98.900  98.9705     997   \n",
       "2021-04-22 04:00:00+00:00   98.925   99.04  98.860  99.0010    1599   \n",
       "\n",
       "                           trade_count        vwap symbol  \n",
       "timestamp                                                  \n",
       "2021-04-16 04:00:00+00:00          186  100.273227    BTC  \n",
       "2021-04-19 04:00:00+00:00           96   99.104105    BTC  \n",
       "2021-04-20 04:00:00+00:00           82   98.932931    BTC  \n",
       "2021-04-21 04:00:00+00:00           42   98.950429    BTC  \n",
       "2021-04-22 04:00:00+00:00           68   98.958802    BTC  "
      ]
     },
     "execution_count": 13,
     "metadata": {},
     "output_type": "execute_result"
    }
   ],
   "source": [
    "# Read in Data Files\n",
    "start_date = pd.Timestamp(\"2013-07-03\", tz=\"America/New_York\").isoformat()\n",
    "end_date = pd.Timestamp(\"2023-07-03\", tz=\"America/New_York\").isoformat()\n",
    "tickers = ['BTC']\n",
    "timeframe = \"1Day\"\n",
    "df_stock = api.get_bars(\n",
    "        tickers,\n",
    "        timeframe,\n",
    "        start=start_date,\n",
    "        end=end_date\n",
    "    ).df\n",
    "df_stock.head()"
   ]
  },
  {
   "cell_type": "code",
   "execution_count": null,
   "id": "868ed098-57c4-4f7d-b5d4-e076d01a88f6",
   "metadata": {},
   "outputs": [],
   "source": []
  },
  {
   "cell_type": "code",
   "execution_count": null,
   "id": "dfa26cbd-ad21-444d-a33f-1b1ecbcd80b4",
   "metadata": {},
   "outputs": [],
   "source": []
  },
  {
   "cell_type": "code",
   "execution_count": null,
   "id": "ab7f9fda-08fc-424c-8d34-e8c1bf56052d",
   "metadata": {},
   "outputs": [],
   "source": []
  },
  {
   "cell_type": "markdown",
   "id": "d35e25cf-4d18-4a03-8442-5f702a841afc",
   "metadata": {},
   "source": [
    "# Data Processing"
   ]
  },
  {
   "cell_type": "code",
   "execution_count": null,
   "id": "6f447658-6938-4217-919a-23fab38f11d4",
   "metadata": {},
   "outputs": [],
   "source": []
  },
  {
   "cell_type": "code",
   "execution_count": null,
   "id": "5737e2f5-dc65-4e4c-8f63-c9372f01cc95",
   "metadata": {},
   "outputs": [],
   "source": []
  },
  {
   "cell_type": "code",
   "execution_count": null,
   "id": "88303567-893c-4858-99fc-6d7c612358ec",
   "metadata": {},
   "outputs": [],
   "source": []
  },
  {
   "cell_type": "code",
   "execution_count": null,
   "id": "06ae1b4d-7002-4259-8494-9eba2667500d",
   "metadata": {},
   "outputs": [],
   "source": []
  },
  {
   "cell_type": "markdown",
   "id": "8c6b1848-8d2d-4ba0-825d-0d8aa056ffa3",
   "metadata": {},
   "source": [
    "# Machine Learning Analysis"
   ]
  },
  {
   "cell_type": "code",
   "execution_count": null,
   "id": "0e8706be-2e18-4a6e-b976-d487f7524da9",
   "metadata": {},
   "outputs": [],
   "source": []
  },
  {
   "cell_type": "code",
   "execution_count": null,
   "id": "294a3b83-f8ec-41b9-9854-ab01730f69ee",
   "metadata": {},
   "outputs": [],
   "source": []
  },
  {
   "cell_type": "code",
   "execution_count": null,
   "id": "fcde721e-e762-48c6-868c-762014548833",
   "metadata": {},
   "outputs": [],
   "source": []
  },
  {
   "cell_type": "code",
   "execution_count": null,
   "id": "3f52c928-e8b1-4698-b92f-96e4851c8937",
   "metadata": {},
   "outputs": [],
   "source": []
  },
  {
   "cell_type": "code",
   "execution_count": null,
   "id": "d6701751-5088-4caf-8006-6ddd5e3220f7",
   "metadata": {},
   "outputs": [],
   "source": []
  },
  {
   "cell_type": "markdown",
   "id": "8726efff-a22e-4b46-b237-76aef8b9f60e",
   "metadata": {},
   "source": [
    "# Save each of your alternative models as an HDF5 file"
   ]
  },
  {
   "cell_type": "code",
   "execution_count": null,
   "id": "6c28edc9-1042-4b19-b625-e84c05efc76e",
   "metadata": {},
   "outputs": [],
   "source": []
  },
  {
   "cell_type": "markdown",
   "id": "7ed81083-0cdc-4644-b7e4-42ea83c6961d",
   "metadata": {},
   "source": [
    "# Output\n",
    "## Connect to an External Exchange (Demo Account)\n",
    "or\n",
    "## Send an SMS (Backup)"
   ]
  },
  {
   "cell_type": "code",
   "execution_count": null,
   "id": "19ebd3fa-b4a7-4749-97c6-3fd2f98a554c",
   "metadata": {},
   "outputs": [],
   "source": []
  },
  {
   "cell_type": "markdown",
   "id": "70d5ffec-1f7b-4445-872b-d6135f1ae29e",
   "metadata": {},
   "source": [
    "# Nice to have: Sentiment Analysis APIs"
   ]
  }
 ],
 "metadata": {
  "kernelspec": {
   "display_name": "Python 3 (ipykernel)",
   "language": "python",
   "name": "python3"
  },
  "language_info": {
   "codemirror_mode": {
    "name": "ipython",
    "version": 3
   },
   "file_extension": ".py",
   "mimetype": "text/x-python",
   "name": "python",
   "nbconvert_exporter": "python",
   "pygments_lexer": "ipython3",
   "version": "3.7.13"
  }
 },
 "nbformat": 4,
 "nbformat_minor": 5
}
